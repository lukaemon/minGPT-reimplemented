{
 "cells": [
  {
   "cell_type": "code",
   "execution_count": 1,
   "metadata": {},
   "outputs": [],
   "source": [
    "import jax\n",
    "import jax.numpy as jnp \n",
    "from jax import random\n",
    "\n",
    "import flax\n",
    "import flax.linen as nn\n",
    "from flax.training import checkpoints\n",
    "\n",
    "import numpy as np\n",
    "\n",
    "from jax_impl.config import Config\n",
    "from jax_impl.train import prepare_data, create_train_state, train_epoch, eval\n",
    "\n",
    "%reload_ext autoreload\n",
    "%autoreload 2"
   ]
  },
  {
   "cell_type": "code",
   "execution_count": 2,
   "metadata": {},
   "outputs": [
    {
     "name": "stdout",
     "output_type": "stream",
     "text": [
      "Config(context_window=128, n_embd=192, n_head=6, n_layer=6, dropout_prob=0.1, vocab_size=64, sequence_len=64, batch_size=64, learning_rate=0.0005)\n"
     ]
    }
   ],
   "source": [
    "cfg = Config()\n",
    "print(cfg)\n",
    "\n",
    "key = random.PRNGKey(42)\n",
    "\n",
    "train_loader, eval_loader = prepare_data(cfg)\n",
    "\n",
    "rng, key = random.split(key)\n",
    "state = create_train_state(rng, cfg)"
   ]
  },
  {
   "cell_type": "code",
   "execution_count": 3,
   "metadata": {},
   "outputs": [],
   "source": [
    "trained_checkpoint = checkpoints.latest_checkpoint('./checkpoint/')\n",
    "\n",
    "if trained_checkpoint:\n",
    "    state = checkpoints.restore_checkpoint(trained_checkpoint, state)\n",
    "else: \n",
    "    for e in range(cfg.n_epoch):\n",
    "        rng, key = random.split(key)\n",
    "        state = train_epoch(state, train_loader, cfg, rng, e)\n",
    "        \n",
    "        checkpoints.save_checkpoint('./checkpoint', state, step=cfg.n_epoch, overwrite=True)"
   ]
  },
  {
   "cell_type": "code",
   "execution_count": 4,
   "metadata": {},
   "outputs": [],
   "source": [
    "# more epochs\n",
    "\n",
    "# n_more = 32\n",
    "# for e in range(n_more):\n",
    "#     rng, key = random.split(key)\n",
    "#     state = train_epoch(state, train_loader, cfg, rng, e)\n",
    "# checkpoints.save_checkpoint('./checkpoint', state, step=cfg.n_epoch + n_more)"
   ]
  },
  {
   "cell_type": "code",
   "execution_count": 5,
   "metadata": {},
   "outputs": [
    {
     "name": "stdout",
     "output_type": "stream",
     "text": [
      "train dataset accuracy = 0.996\n",
      "eval dataset accuracy = 0.996\n"
     ]
    }
   ],
   "source": [
    "print(f\"train dataset accuracy = {eval(state, train_loader, cfg):.3f}\")\n",
    "print(f\"eval dataset accuracy = {eval(state, eval_loader, cfg):.3f}\")"
   ]
  },
  {
   "cell_type": "code",
   "execution_count": 6,
   "metadata": {},
   "outputs": [
    {
     "name": "stdout",
     "output_type": "stream",
     "text": [
      "input = [[30 52 16 28  7 50 61 25 34 45 47 53 55 38 52 19  9  1  1 46 10  9 57  9\n",
      "  16 59 56 57 26 60 61 24  3 46 55 51 25 16 29 48 17  5  9 26 56 23 55  0\n",
      "  24 42  1 36 36 37 51 24 38 46  1 14 33  0 56 20]]\n",
      "generated sequence = [[ 0  0  1  1  1  1  3  5  7  9  9  9  9 10 14 16 16 16 17 19 20 23 24 24\n",
      "  24 25 25 26 26 26 28 29 30 33 34 36 36 37 38 38 42 45 46 46 46 47 48 50\n",
      "  51 51 52 52 53 55 55 55 56 56 56 57 59 60 61 61]]\n"
     ]
    }
   ],
   "source": [
    "from jax_impl.infer import generate\n",
    "\n",
    "rng, key = random.split(key)\n",
    "x = random.randint(rng, (1, cfg.sequence_len), 0, maxval=cfg.vocab_size)\n",
    "\n",
    "output = generate(cfg, state.params, x, cfg.sequence_len)[:, -cfg.sequence_len:]\n",
    "\n",
    "print(f\"input = {x}\")\n",
    "print(f\"generated sequence = {output}\")"
   ]
  },
  {
   "cell_type": "code",
   "execution_count": 7,
   "metadata": {},
   "outputs": [
    {
     "ename": "AssertionError",
     "evalue": "",
     "output_type": "error",
     "traceback": [
      "\u001b[0;31m---------------------------------------------------------------------------\u001b[0m",
      "\u001b[0;31mAssertionError\u001b[0m                            Traceback (most recent call last)",
      "\u001b[1;32m/home/lucas/Dev/minGPT-reimplemented/jax_demo.ipynb Cell 7\u001b[0m in \u001b[0;36m<cell line: 1>\u001b[0;34m()\u001b[0m\n\u001b[0;32m----> <a href='vscode-notebook-cell://ssh-remote%2Bhome/home/lucas/Dev/minGPT-reimplemented/jax_demo.ipynb#W6sdnNjb2RlLXJlbW90ZQ%3D%3D?line=0'>1</a>\u001b[0m \u001b[39massert\u001b[39;00m (jnp\u001b[39m.\u001b[39msort(x) \u001b[39m==\u001b[39m output)\u001b[39m.\u001b[39mall()\n",
      "\u001b[0;31mAssertionError\u001b[0m: "
     ]
    }
   ],
   "source": [
    "assert (jnp.sort(x) == output).all()"
   ]
  },
  {
   "cell_type": "code",
   "execution_count": null,
   "metadata": {},
   "outputs": [],
   "source": []
  }
 ],
 "metadata": {
  "kernelspec": {
   "display_name": "Python 3.10.4 ('ml')",
   "language": "python",
   "name": "python3"
  },
  "language_info": {
   "codemirror_mode": {
    "name": "ipython",
    "version": 3
   },
   "file_extension": ".py",
   "mimetype": "text/x-python",
   "name": "python",
   "nbconvert_exporter": "python",
   "pygments_lexer": "ipython3",
   "version": "3.10.4"
  },
  "orig_nbformat": 4,
  "vscode": {
   "interpreter": {
    "hash": "b2197b825b7386dfddab0fbacf6c0b51d2279ad2fcc5a7725cfa6cd332434469"
   }
  }
 },
 "nbformat": 4,
 "nbformat_minor": 2
}
