{
 "cells": [
  {
   "cell_type": "code",
   "execution_count": 3,
   "metadata": {},
   "outputs": [],
   "source": [
    "import jax\n",
    "import jax.numpy as jnp \n",
    "from jax import random\n",
    "\n",
    "import flax\n",
    "import flax.linen as nn\n",
    "from flax.training import checkpoints\n",
    "\n",
    "import numpy as np\n",
    "\n",
    "from jax_impl.config import Config\n",
    "from jax_impl.train import prepare_data, create_train_state, train_epoch, eval\n",
    "\n",
    "%reload_ext autoreload\n",
    "%autoreload 2"
   ]
  },
  {
   "cell_type": "code",
   "execution_count": 4,
   "metadata": {},
   "outputs": [
    {
     "name": "stdout",
     "output_type": "stream",
     "text": [
      "Config(context_window=128, n_embd=192, n_head=6, n_layer=6, dropout_prob=0.1, vocab_size=64, sequence_len=64, batch_size=64, learning_rate=0.0005)\n"
     ]
    }
   ],
   "source": [
    "cfg = Config()\n",
    "print(cfg)\n",
    "\n",
    "key = random.PRNGKey(42)\n",
    "\n",
    "train_loader, eval_loader = prepare_data(cfg)\n",
    "\n",
    "rng, key = random.split(key)\n",
    "state = create_train_state(rng, cfg)"
   ]
  },
  {
   "cell_type": "code",
   "execution_count": 5,
   "metadata": {},
   "outputs": [],
   "source": [
    "trained_checkpoint = checkpoints.latest_checkpoint('./checkpoint/')\n",
    "\n",
    "if trained_checkpoint:\n",
    "    state = checkpoints.restore_checkpoint(trained_checkpoint, state)\n",
    "else: \n",
    "    for e in range(cfg.n_epoch):\n",
    "        rng, key = random.split(key)\n",
    "        state = train_epoch(state, train_loader, cfg, rng, e)\n",
    "        \n",
    "        checkpoints.save_checkpoint('./checkpoint', state, step=cfg.n_epoch, overwrite=True)"
   ]
  },
  {
   "cell_type": "code",
   "execution_count": 6,
   "metadata": {},
   "outputs": [],
   "source": [
    "# more epochs\n",
    "\n",
    "# n_more = 32\n",
    "# for e in range(n_more):\n",
    "#     rng, key = random.split(key)\n",
    "#     state = train_epoch(state, train_loader, cfg, rng, e)\n",
    "# checkpoints.save_checkpoint('./checkpoint', state, step=cfg.n_epoch + n_more)"
   ]
  },
  {
   "cell_type": "code",
   "execution_count": 7,
   "metadata": {},
   "outputs": [
    {
     "name": "stdout",
     "output_type": "stream",
     "text": [
      "train dataset accuracy = 0.996\n",
      "eval dataset accuracy = 0.996\n"
     ]
    }
   ],
   "source": [
    "print(f\"train dataset accuracy = {eval(state, train_loader, cfg):.3f}\")\n",
    "print(f\"eval dataset accuracy = {eval(state, eval_loader, cfg):.3f}\")"
   ]
  },
  {
   "cell_type": "code",
   "execution_count": 16,
   "metadata": {},
   "outputs": [
    {
     "name": "stdout",
     "output_type": "stream",
     "text": [
      "input = [[59 61 58 32 53 24 11 43 27 33 19  0 23  6 32 27 15 31 19  7 14 53 50  9\n",
      "  31  1 45 16 12 39 27 18 22 38 59 29  7 38 31  7 22 43 34 37 20  2 57 18\n",
      "  60 45 17 25 41 12  1 33 62 50 22 44 41 14 20 14]]\n",
      "generated sequence = [[ 0  1  1  2  6  7  7  7  9 11 12 12 14 14 14 15 16 17 18 18 19 19 20 20\n",
      "  22 22 22 23 24 25 27 27 27 29 31 31 31 32 32 33 33 34 37 38 38 39 41 41\n",
      "  43 43 44 45 45 50 50 53 53 57 58 59 59 60 61 62]]\n"
     ]
    }
   ],
   "source": [
    "from jax_impl.infer import generate\n",
    "\n",
    "rng, key = random.split(key)\n",
    "x = random.randint(rng, (1, cfg.sequence_len), 0, maxval=cfg.vocab_size)\n",
    "\n",
    "output = generate(cfg, state.params, x, cfg.sequence_len)[:, -cfg.sequence_len:]\n",
    "\n",
    "print(f\"input = {x}\")\n",
    "print(f\"generated sequence = {output}\")"
   ]
  },
  {
   "cell_type": "code",
   "execution_count": 18,
   "metadata": {},
   "outputs": [],
   "source": [
    "assert (jnp.sort(x) == output).all()"
   ]
  },
  {
   "cell_type": "code",
   "execution_count": null,
   "metadata": {},
   "outputs": [],
   "source": []
  }
 ],
 "metadata": {
  "kernelspec": {
   "display_name": "Python 3.10.4 ('ml')",
   "language": "python",
   "name": "python3"
  },
  "language_info": {
   "codemirror_mode": {
    "name": "ipython",
    "version": 3
   },
   "file_extension": ".py",
   "mimetype": "text/x-python",
   "name": "python",
   "nbconvert_exporter": "python",
   "pygments_lexer": "ipython3",
   "version": "3.10.4"
  },
  "orig_nbformat": 4,
  "vscode": {
   "interpreter": {
    "hash": "b2197b825b7386dfddab0fbacf6c0b51d2279ad2fcc5a7725cfa6cd332434469"
   }
  }
 },
 "nbformat": 4,
 "nbformat_minor": 2
}
