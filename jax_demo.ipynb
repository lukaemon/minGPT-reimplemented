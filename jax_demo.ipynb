{
 "cells": [
  {
   "cell_type": "code",
   "execution_count": 2,
   "metadata": {},
   "outputs": [],
   "source": [
    "import jax\n",
    "import jax.numpy as jnp \n",
    "from jax import random\n",
    "\n",
    "import flax\n",
    "import flax.linen as nn\n",
    "\n",
    "import numpy as np\n",
    "\n",
    "from jax_impl.config import Config\n",
    "from jax_impl.train import prepare_data, create_train_state, train_epoch, eval\n",
    "\n",
    "%reload_ext autoreload\n",
    "%autoreload 2"
   ]
  },
  {
   "cell_type": "code",
   "execution_count": 3,
   "metadata": {},
   "outputs": [],
   "source": [
    "cfg = Config()\n",
    "key = random.PRNGKey(42)\n",
    "\n",
    "train_loader, eval_loader = prepare_data(cfg)\n",
    "\n",
    "rng, key = random.split(key)\n",
    "state = create_train_state(rng, cfg)"
   ]
  },
  {
   "cell_type": "code",
   "execution_count": 4,
   "metadata": {},
   "outputs": [
    {
     "name": "stdout",
     "output_type": "stream",
     "text": [
      "epoch  0 | avg_loss=0.4117 | avg_acc=0.7346\n",
      "epoch  1 | avg_loss=0.1024 | avg_acc=0.9431\n",
      "epoch  2 | avg_loss=0.0601 | avg_acc=0.9658\n",
      "epoch  3 | avg_loss=0.0453 | avg_acc=0.9736\n",
      "epoch  4 | avg_loss=0.0378 | avg_acc=0.9773\n",
      "epoch  5 | avg_loss=0.0380 | avg_acc=0.9769\n",
      "epoch  6 | avg_loss=0.0275 | avg_acc=0.9836\n",
      "epoch  7 | avg_loss=0.0284 | avg_acc=0.9832\n",
      "epoch  8 | avg_loss=0.0237 | avg_acc=0.9855\n",
      "epoch  9 | avg_loss=0.0269 | avg_acc=0.9835\n",
      "epoch 10 | avg_loss=0.0184 | avg_acc=0.9889\n",
      "epoch 11 | avg_loss=0.0199 | avg_acc=0.9878\n",
      "epoch 12 | avg_loss=0.0193 | avg_acc=0.9878\n",
      "epoch 13 | avg_loss=0.0167 | avg_acc=0.9901\n",
      "epoch 14 | avg_loss=0.0155 | avg_acc=0.9899\n",
      "epoch 15 | avg_loss=0.0144 | avg_acc=0.9911\n",
      "epoch 16 | avg_loss=0.0146 | avg_acc=0.9907\n",
      "epoch 17 | avg_loss=0.0139 | avg_acc=0.9913\n",
      "epoch 18 | avg_loss=0.0130 | avg_acc=0.9921\n",
      "epoch 19 | avg_loss=0.0138 | avg_acc=0.9917\n",
      "epoch 20 | avg_loss=0.0139 | avg_acc=0.9920\n",
      "epoch 21 | avg_loss=0.0142 | avg_acc=0.9914\n",
      "epoch 22 | avg_loss=0.0108 | avg_acc=0.9935\n",
      "epoch 23 | avg_loss=0.0110 | avg_acc=0.9934\n",
      "epoch 24 | avg_loss=0.0122 | avg_acc=0.9926\n",
      "epoch 25 | avg_loss=0.0098 | avg_acc=0.9940\n",
      "epoch 26 | avg_loss=0.0091 | avg_acc=0.9944\n",
      "epoch 27 | avg_loss=0.0084 | avg_acc=0.9946\n",
      "epoch 28 | avg_loss=0.0124 | avg_acc=0.9924\n",
      "epoch 29 | avg_loss=0.0088 | avg_acc=0.9945\n",
      "epoch 30 | avg_loss=0.0097 | avg_acc=0.9941\n",
      "epoch 31 | avg_loss=0.0088 | avg_acc=0.9947\n"
     ]
    }
   ],
   "source": [
    "for e in range(cfg.n_epoch):\n",
    "    rng, key = random.split(key)\n",
    "    state = train_epoch(state, train_loader, cfg, rng, e)"
   ]
  },
  {
   "cell_type": "code",
   "execution_count": 46,
   "metadata": {},
   "outputs": [
    {
     "name": "stdout",
     "output_type": "stream",
     "text": [
      "train accuracy = 1.000\n",
      "eval accuracy = 1.000\n"
     ]
    }
   ],
   "source": [
    "print(f\"train dataset accuracy = {eval(state, train_loader, cfg):.3f}\")\n",
    "print(f\"eval dataset accuracy = {eval(state, eval_loader, cfg):.3f}\")"
   ]
  },
  {
   "cell_type": "code",
   "execution_count": 48,
   "metadata": {},
   "outputs": [
    {
     "name": "stdout",
     "output_type": "stream",
     "text": [
      "input = [[0 0 2 1 0 1]]\n",
      "generated sequence = [[0 0 0 1 1 2]]\n"
     ]
    }
   ],
   "source": [
    "from jax_impl.infer import generate\n",
    "\n",
    "x = jnp.array([[0, 0, 2, 1, 0, 1]])\n",
    "output = generate(cfg, state.params, x, 6)[:, -6:]\n",
    "\n",
    "print(f\"input = {x}\")\n",
    "print(f\"generated sequence = {output}\")\n",
    "\n",
    "assert (jnp.sort(x) == output).all()"
   ]
  }
 ],
 "metadata": {
  "kernelspec": {
   "display_name": "Python 3.10.4 ('ml')",
   "language": "python",
   "name": "python3"
  },
  "language_info": {
   "codemirror_mode": {
    "name": "ipython",
    "version": 3
   },
   "file_extension": ".py",
   "mimetype": "text/x-python",
   "name": "python",
   "nbconvert_exporter": "python",
   "pygments_lexer": "ipython3",
   "version": "3.10.4"
  },
  "orig_nbformat": 4,
  "vscode": {
   "interpreter": {
    "hash": "b2197b825b7386dfddab0fbacf6c0b51d2279ad2fcc5a7725cfa6cd332434469"
   }
  }
 },
 "nbformat": 4,
 "nbformat_minor": 2
}
