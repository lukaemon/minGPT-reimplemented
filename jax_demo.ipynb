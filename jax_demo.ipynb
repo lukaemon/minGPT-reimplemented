{
 "cells": [
  {
   "cell_type": "code",
   "execution_count": 4,
   "metadata": {},
   "outputs": [],
   "source": [
    "import math\n",
    "import functools\n",
    "\n",
    "import jax\n",
    "import jax.numpy as jnp \n",
    "from jax import random\n",
    "from jax.tree_util import tree_map\n",
    "\n",
    "import flax\n",
    "import flax.linen as nn\n",
    "\n",
    "import numpy as np\n",
    "\n",
    "from general.utils import ModelConfig\n",
    "from jax_impl.model import *"
   ]
  },
  {
   "cell_type": "code",
   "execution_count": 5,
   "metadata": {},
   "outputs": [
    {
     "data": {
      "text/plain": [
       "ModelConfig(vocab_size=1024, context_window=64, n_embd=48, n_head=3, n_layer=3, model_type='gpt-nano', attn_pdrop=0.1, recid_pdrop=0.1, embd_pdrop=0.1)"
      ]
     },
     "execution_count": 5,
     "metadata": {},
     "output_type": "execute_result"
    }
   ],
   "source": [
    "key = random.PRNGKey(42)\n",
    "\n",
    "model_config = ModelConfig(\n",
    "    vocab_size=1024, \n",
    "    context_window=64, \n",
    "    model_type='gpt-nano')\n",
    "model_config"
   ]
  },
  {
   "cell_type": "code",
   "execution_count": 6,
   "metadata": {},
   "outputs": [
    {
     "data": {
      "text/plain": [
       "(10, 4, 48)"
      ]
     },
     "execution_count": 6,
     "metadata": {},
     "output_type": "execute_result"
    }
   ],
   "source": [
    "rx, rp, rd, key = random.split(key, 4)\n",
    "init_rngs = {'params': rp, 'dropout': rd}\n",
    "\n",
    "x = random.normal(rx, (10, 4, 48))\n",
    "\n",
    "attn = Attention(model_config)\n",
    "params = attn.init(init_rngs, x)\n",
    "\n",
    "out = attn.apply(params, x, rngs={'dropout': rd})\n",
    "out.shape"
   ]
  },
  {
   "cell_type": "code",
   "execution_count": 7,
   "metadata": {},
   "outputs": [
    {
     "data": {
      "text/plain": [
       "(10, 4, 48)"
      ]
     },
     "execution_count": 7,
     "metadata": {},
     "output_type": "execute_result"
    }
   ],
   "source": [
    "blk = Block(model_config)\n",
    "params = blk.init(init_rngs, x)\n",
    "\n",
    "output = blk.apply(params, x, rngs={'dropout': rd})\n",
    "output.shape"
   ]
  },
  {
   "cell_type": "code",
   "execution_count": 8,
   "metadata": {},
   "outputs": [
    {
     "data": {
      "text/plain": [
       "(10, 4, 48)"
      ]
     },
     "execution_count": 8,
     "metadata": {},
     "output_type": "execute_result"
    }
   ],
   "source": [
    "idx = random.randint(rx, (10, 4), 0, maxval=model_config.vocab_size, dtype=jnp.integer)\n",
    "\n",
    "emb = Embedding(model_config)\n",
    "params = emb.init(init_rngs, idx)\n",
    "\n",
    "output = emb.apply(params, idx, rngs={'dropout': rd})\n",
    "output.shape"
   ]
  },
  {
   "cell_type": "code",
   "execution_count": 9,
   "metadata": {},
   "outputs": [
    {
     "data": {
      "text/plain": [
       "(10, 4, 1024)"
      ]
     },
     "execution_count": 9,
     "metadata": {},
     "output_type": "execute_result"
    }
   ],
   "source": [
    "gpt = GPT(model_config)\n",
    "params = gpt.init(init_rngs, idx)\n",
    "\n",
    "output = gpt.apply(params, idx, rngs={'dropout': rd})\n",
    "output.shape"
   ]
  },
  {
   "cell_type": "code",
   "execution_count": null,
   "metadata": {},
   "outputs": [],
   "source": []
  }
 ],
 "metadata": {
  "kernelspec": {
   "display_name": "Python 3.10.4 ('ml')",
   "language": "python",
   "name": "python3"
  },
  "language_info": {
   "codemirror_mode": {
    "name": "ipython",
    "version": 3
   },
   "file_extension": ".py",
   "mimetype": "text/x-python",
   "name": "python",
   "nbconvert_exporter": "python",
   "pygments_lexer": "ipython3",
   "version": "3.10.4"
  },
  "orig_nbformat": 4,
  "vscode": {
   "interpreter": {
    "hash": "b2197b825b7386dfddab0fbacf6c0b51d2279ad2fcc5a7725cfa6cd332434469"
   }
  }
 },
 "nbformat": 4,
 "nbformat_minor": 2
}
