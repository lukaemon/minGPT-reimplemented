{
 "cells": [
  {
   "cell_type": "code",
   "execution_count": 6,
   "metadata": {},
   "outputs": [],
   "source": [
    "import jax\n",
    "import jax.numpy as jnp \n",
    "from jax import random\n",
    "\n",
    "import flax\n",
    "import flax.linen as nn\n",
    "\n",
    "import numpy as np\n",
    "\n",
    "from jax_impl.config import Config\n",
    "from jax_impl.train import prepare_data, create_train_state, train_epoch, eval\n",
    "\n",
    "%reload_ext autoreload\n",
    "%autoreload 2"
   ]
  },
  {
   "cell_type": "code",
   "execution_count": 7,
   "metadata": {},
   "outputs": [],
   "source": [
    "cfg = Config()\n",
    "key = random.PRNGKey(42)\n",
    "\n",
    "train_loader, eval_loader = prepare_data(cfg)\n",
    "\n",
    "rng, key = random.split(key)\n",
    "state = create_train_state(rng, cfg)"
   ]
  },
  {
   "cell_type": "code",
   "execution_count": 8,
   "metadata": {},
   "outputs": [
    {
     "name": "stdout",
     "output_type": "stream",
     "text": [
      "epoch  0 | avg_loss=0.4084 | avg_acc=0.7366\n",
      "epoch  1 | avg_loss=0.1038 | avg_acc=0.9428\n",
      "epoch  2 | avg_loss=0.0592 | avg_acc=0.9662\n",
      "epoch  3 | avg_loss=0.0457 | avg_acc=0.9719\n",
      "epoch  4 | avg_loss=0.0373 | avg_acc=0.9773\n",
      "epoch  5 | avg_loss=0.0311 | avg_acc=0.9817\n",
      "epoch  6 | avg_loss=0.0297 | avg_acc=0.9818\n",
      "epoch  7 | avg_loss=0.0270 | avg_acc=0.9836\n",
      "epoch  8 | avg_loss=0.0263 | avg_acc=0.9836\n",
      "epoch  9 | avg_loss=0.0253 | avg_acc=0.9848\n",
      "epoch 10 | avg_loss=0.0186 | avg_acc=0.9888\n",
      "epoch 11 | avg_loss=0.0187 | avg_acc=0.9879\n",
      "epoch 12 | avg_loss=0.0182 | avg_acc=0.9890\n",
      "epoch 13 | avg_loss=0.0147 | avg_acc=0.9909\n",
      "epoch 14 | avg_loss=0.0174 | avg_acc=0.9892\n",
      "epoch 15 | avg_loss=0.0159 | avg_acc=0.9902\n",
      "epoch 16 | avg_loss=0.0143 | avg_acc=0.9910\n",
      "epoch 17 | avg_loss=0.0134 | avg_acc=0.9919\n",
      "epoch 18 | avg_loss=0.0127 | avg_acc=0.9921\n",
      "epoch 19 | avg_loss=0.0139 | avg_acc=0.9914\n",
      "epoch 20 | avg_loss=0.0135 | avg_acc=0.9919\n",
      "epoch 21 | avg_loss=0.0150 | avg_acc=0.9908\n",
      "epoch 22 | avg_loss=0.0132 | avg_acc=0.9920\n",
      "epoch 23 | avg_loss=0.0118 | avg_acc=0.9926\n",
      "epoch 24 | avg_loss=0.0120 | avg_acc=0.9926\n",
      "epoch 25 | avg_loss=0.0106 | avg_acc=0.9937\n",
      "epoch 26 | avg_loss=0.0090 | avg_acc=0.9945\n",
      "epoch 27 | avg_loss=0.0088 | avg_acc=0.9945\n",
      "epoch 28 | avg_loss=0.0107 | avg_acc=0.9936\n",
      "epoch 29 | avg_loss=0.0087 | avg_acc=0.9950\n",
      "epoch 30 | avg_loss=0.0083 | avg_acc=0.9947\n",
      "epoch 31 | avg_loss=0.0080 | avg_acc=0.9954\n"
     ]
    }
   ],
   "source": [
    "for e in range(cfg.n_epoch):\n",
    "    rng, key = random.split(key)\n",
    "    state = train_epoch(state, train_loader, cfg, rng, e)"
   ]
  },
  {
   "cell_type": "code",
   "execution_count": 9,
   "metadata": {},
   "outputs": [
    {
     "name": "stdout",
     "output_type": "stream",
     "text": [
      "eval accuracy = 0.999\n"
     ]
    }
   ],
   "source": [
    "eval(state, eval_loader, cfg)"
   ]
  },
  {
   "cell_type": "code",
   "execution_count": null,
   "metadata": {},
   "outputs": [],
   "source": []
  }
 ],
 "metadata": {
  "kernelspec": {
   "display_name": "Python 3.10.4 ('ml')",
   "language": "python",
   "name": "python3"
  },
  "language_info": {
   "codemirror_mode": {
    "name": "ipython",
    "version": 3
   },
   "file_extension": ".py",
   "mimetype": "text/x-python",
   "name": "python",
   "nbconvert_exporter": "python",
   "pygments_lexer": "ipython3",
   "version": "3.10.4"
  },
  "orig_nbformat": 4,
  "vscode": {
   "interpreter": {
    "hash": "b2197b825b7386dfddab0fbacf6c0b51d2279ad2fcc5a7725cfa6cd332434469"
   }
  }
 },
 "nbformat": 4,
 "nbformat_minor": 2
}
