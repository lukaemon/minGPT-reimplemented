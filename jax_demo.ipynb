{
 "cells": [
  {
   "cell_type": "code",
   "execution_count": 1,
   "metadata": {},
   "outputs": [],
   "source": [
    "import math\n",
    "import functools\n",
    "\n",
    "import jax\n",
    "import jax.numpy as jnp \n",
    "from jax import random\n",
    "from jax.tree_util import tree_map, tree_flatten, tree_leaves, tree_unflatten\n",
    "\n",
    "import flax\n",
    "import flax.linen as nn\n",
    "\n",
    "import numpy as np\n",
    "\n",
    "from jax_impl.model import GPT\n",
    "import optax\n",
    "\n",
    "from jax_impl.config import Config\n",
    "from jax_impl.train import create_train_state, train_step, create_weight_decay_mask\n",
    "\n",
    "%reload_ext autoreload\n",
    "%autoreload 2"
   ]
  },
  {
   "cell_type": "code",
   "execution_count": 2,
   "metadata": {},
   "outputs": [],
   "source": [
    "from dataset import SortDataset\n",
    "from torch.utils.data import DataLoader\n",
    "\n",
    "def numpy_collate(batch):\n",
    "  if isinstance(batch[0], np.ndarray):\n",
    "    return np.stack(batch)\n",
    "  elif isinstance(batch[0], (tuple,list)):\n",
    "    transposed = zip(*batch)\n",
    "    return [numpy_collate(samples) for samples in transposed]\n",
    "  else:\n",
    "    return np.array(batch)\n",
    "\n",
    "def cast(x):\n",
    "    return np.array(x, dtype=int)"
   ]
  },
  {
   "cell_type": "code",
   "execution_count": 3,
   "metadata": {},
   "outputs": [],
   "source": [
    "cfg = Config()\n",
    "key = random.PRNGKey(42)\n",
    "\n",
    "train_dataset = SortDataset('train', length=cfg.sequence_len, num_digits=cfg.vocab_size, transform=cast)\n",
    "train_loader = DataLoader(train_dataset, batch_size=cfg.batch_size, shuffle=True, collate_fn=numpy_collate)"
   ]
  },
  {
   "cell_type": "code",
   "execution_count": 4,
   "metadata": {},
   "outputs": [
    {
     "data": {
      "text/plain": [
       "157"
      ]
     },
     "execution_count": 4,
     "metadata": {},
     "output_type": "execute_result"
    }
   ],
   "source": [
    "len(train_loader)"
   ]
  },
  {
   "cell_type": "code",
   "execution_count": 5,
   "metadata": {},
   "outputs": [
    {
     "name": "stdout",
     "output_type": "stream",
     "text": [
      "epoch0-iter:  0 | loss:2.409 | acc:0.182\n",
      "epoch0-iter:100 | loss:0.259 | acc:0.852\n",
      "epoch1-iter:  0 | loss:0.141 | acc:0.911\n",
      "epoch1-iter:100 | loss:0.065 | acc:0.979\n",
      "epoch2-iter:  0 | loss:0.086 | acc:0.943\n",
      "epoch2-iter:100 | loss:0.032 | acc:0.979\n",
      "epoch3-iter:  0 | loss:0.028 | acc:0.984\n",
      "epoch3-iter:100 | loss:0.021 | acc:0.995\n",
      "epoch4-iter:  0 | loss:0.024 | acc:0.984\n",
      "epoch4-iter:100 | loss:0.026 | acc:0.984\n",
      "epoch5-iter:  0 | loss:0.023 | acc:0.992\n",
      "epoch5-iter:100 | loss:0.011 | acc:0.995\n",
      "epoch6-iter:  0 | loss:0.021 | acc:0.987\n",
      "epoch6-iter:100 | loss:0.014 | acc:0.992\n",
      "epoch7-iter:  0 | loss:0.015 | acc:0.990\n",
      "epoch7-iter:100 | loss:0.016 | acc:0.990\n",
      "epoch8-iter:  0 | loss:0.016 | acc:0.990\n",
      "epoch8-iter:100 | loss:0.016 | acc:0.984\n",
      "epoch9-iter:  0 | loss:0.011 | acc:0.992\n",
      "epoch9-iter:100 | loss:0.012 | acc:0.995\n",
      "epoch10-iter:  0 | loss:0.009 | acc:0.995\n",
      "epoch10-iter:100 | loss:0.004 | acc:0.997\n",
      "epoch11-iter:  0 | loss:0.005 | acc:0.997\n",
      "epoch11-iter:100 | loss:0.011 | acc:0.990\n"
     ]
    }
   ],
   "source": [
    "state = create_train_state(key, cfg)\n",
    "j_train_step = jax.jit(\n",
    "    train_step, \n",
    "    static_argnames='cfg', \n",
    "    donate_argnums=(0, )) # old state could be donated\n",
    "\n",
    "# j_train_step = jax.jit(\n",
    "#     functools.partial(train_step, cfg=cfg, dropout_rng=key), \n",
    "#     donate_argnums=(0, ))\n",
    "\n",
    "for e in range(cfg.n_epoch):\n",
    "    for i, batch in enumerate(train_loader):\n",
    "        state, metrics = j_train_step(state, batch, cfg, key)\n",
    "        # state, metrics = j_train_step(state, batch)\n",
    "\n",
    "        if i % 100 == 0:\n",
    "            print(f\"epoch{e}-iter:{i:3d} | loss:{metrics['loss']:.3f} | acc:{metrics['acc']:.3f}\")\n"
   ]
  },
  {
   "cell_type": "code",
   "execution_count": null,
   "metadata": {},
   "outputs": [],
   "source": []
  }
 ],
 "metadata": {
  "kernelspec": {
   "display_name": "Python 3.10.4 ('ml')",
   "language": "python",
   "name": "python3"
  },
  "language_info": {
   "codemirror_mode": {
    "name": "ipython",
    "version": 3
   },
   "file_extension": ".py",
   "mimetype": "text/x-python",
   "name": "python",
   "nbconvert_exporter": "python",
   "pygments_lexer": "ipython3",
   "version": "3.10.4"
  },
  "orig_nbformat": 4,
  "vscode": {
   "interpreter": {
    "hash": "b2197b825b7386dfddab0fbacf6c0b51d2279ad2fcc5a7725cfa6cd332434469"
   }
  }
 },
 "nbformat": 4,
 "nbformat_minor": 2
}
