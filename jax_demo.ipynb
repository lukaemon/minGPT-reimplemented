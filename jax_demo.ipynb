{
 "cells": [
  {
   "cell_type": "code",
   "execution_count": 7,
   "metadata": {},
   "outputs": [],
   "source": [
    "import jax\n",
    "import jax.numpy as jnp \n",
    "from jax import random\n",
    "\n",
    "import flax\n",
    "import flax.linen as nn\n",
    "from flax.training import checkpoints\n",
    "\n",
    "import numpy as np\n",
    "\n",
    "from jax_impl.config import Config\n",
    "from jax_impl.train import prepare_data, create_train_state, train_epoch, eval\n",
    "\n",
    "# %reload_ext autoreload\n",
    "# %autoreload 2"
   ]
  },
  {
   "cell_type": "code",
   "execution_count": 2,
   "metadata": {},
   "outputs": [
    {
     "name": "stdout",
     "output_type": "stream",
     "text": [
      "Config(context_window=128, n_embd=192, n_head=6, n_layer=6, dropout_prob=0.1, vocab_size=64, sequence_len=64, batch_size=64, learning_rate=0.0005)\n"
     ]
    }
   ],
   "source": [
    "cfg = Config()\n",
    "print(cfg)\n",
    "\n",
    "key = random.PRNGKey(42)\n",
    "\n",
    "train_loader, eval_loader = prepare_data(cfg)\n",
    "\n",
    "rng, key = random.split(key)\n",
    "state = create_train_state(rng, cfg)"
   ]
  },
  {
   "cell_type": "code",
   "execution_count": 3,
   "metadata": {},
   "outputs": [
    {
     "name": "stdout",
     "output_type": "stream",
     "text": [
      "epoch  0 | avg_loss=1.0432 | avg_acc=0.3403\n",
      "epoch  1 | avg_loss=0.5176 | avg_acc=0.5541\n",
      "epoch  2 | avg_loss=0.2621 | avg_acc=0.7846\n",
      "epoch  3 | avg_loss=0.1785 | avg_acc=0.8577\n",
      "epoch  4 | avg_loss=0.1321 | avg_acc=0.8992\n",
      "epoch  5 | avg_loss=0.1086 | avg_acc=0.9188\n",
      "epoch  6 | avg_loss=0.0936 | avg_acc=0.9301\n",
      "epoch  7 | avg_loss=0.0828 | avg_acc=0.9392\n",
      "epoch  8 | avg_loss=0.0751 | avg_acc=0.9448\n",
      "epoch  9 | avg_loss=0.0682 | avg_acc=0.9504\n",
      "epoch 10 | avg_loss=0.0661 | avg_acc=0.9520\n",
      "epoch 11 | avg_loss=0.0597 | avg_acc=0.9570\n",
      "epoch 12 | avg_loss=0.0557 | avg_acc=0.9596\n",
      "epoch 13 | avg_loss=0.0540 | avg_acc=0.9614\n",
      "epoch 14 | avg_loss=0.0520 | avg_acc=0.9628\n",
      "epoch 15 | avg_loss=0.0490 | avg_acc=0.9649\n",
      "epoch 16 | avg_loss=0.0477 | avg_acc=0.9657\n",
      "epoch 17 | avg_loss=0.0440 | avg_acc=0.9684\n",
      "epoch 18 | avg_loss=0.0418 | avg_acc=0.9701\n",
      "epoch 19 | avg_loss=0.0420 | avg_acc=0.9700\n",
      "epoch 20 | avg_loss=0.0402 | avg_acc=0.9714\n",
      "epoch 21 | avg_loss=0.0389 | avg_acc=0.9724\n",
      "epoch 22 | avg_loss=0.0388 | avg_acc=0.9723\n",
      "epoch 23 | avg_loss=0.0360 | avg_acc=0.9742\n",
      "epoch 24 | avg_loss=0.0354 | avg_acc=0.9745\n",
      "epoch 25 | avg_loss=0.0352 | avg_acc=0.9749\n",
      "epoch 26 | avg_loss=0.0335 | avg_acc=0.9761\n",
      "epoch 27 | avg_loss=0.0336 | avg_acc=0.9760\n",
      "epoch 28 | avg_loss=0.0331 | avg_acc=0.9764\n",
      "epoch 29 | avg_loss=0.0311 | avg_acc=0.9779\n",
      "epoch 30 | avg_loss=0.0310 | avg_acc=0.9778\n",
      "epoch 31 | avg_loss=0.0300 | avg_acc=0.9788\n",
      "epoch 32 | avg_loss=0.0295 | avg_acc=0.9792\n",
      "epoch 33 | avg_loss=0.0285 | avg_acc=0.9797\n",
      "epoch 34 | avg_loss=0.0280 | avg_acc=0.9801\n",
      "epoch 35 | avg_loss=0.0281 | avg_acc=0.9801\n",
      "epoch 36 | avg_loss=0.0262 | avg_acc=0.9814\n",
      "epoch 37 | avg_loss=0.0269 | avg_acc=0.9808\n",
      "epoch 38 | avg_loss=0.0262 | avg_acc=0.9814\n",
      "epoch 39 | avg_loss=0.0258 | avg_acc=0.9817\n",
      "epoch 40 | avg_loss=0.0253 | avg_acc=0.9821\n",
      "epoch 41 | avg_loss=0.0251 | avg_acc=0.9822\n",
      "epoch 42 | avg_loss=0.0249 | avg_acc=0.9822\n",
      "epoch 43 | avg_loss=0.0246 | avg_acc=0.9828\n",
      "epoch 44 | avg_loss=0.0237 | avg_acc=0.9833\n",
      "epoch 45 | avg_loss=0.0234 | avg_acc=0.9833\n",
      "epoch 46 | avg_loss=0.0230 | avg_acc=0.9837\n",
      "epoch 47 | avg_loss=0.0228 | avg_acc=0.9838\n",
      "epoch 48 | avg_loss=0.0228 | avg_acc=0.9839\n",
      "epoch 49 | avg_loss=0.0228 | avg_acc=0.9838\n",
      "epoch 50 | avg_loss=0.0217 | avg_acc=0.9845\n",
      "epoch 51 | avg_loss=0.0211 | avg_acc=0.9850\n",
      "epoch 52 | avg_loss=0.0211 | avg_acc=0.9850\n",
      "epoch 53 | avg_loss=0.0211 | avg_acc=0.9850\n",
      "epoch 54 | avg_loss=0.0210 | avg_acc=0.9851\n",
      "epoch 55 | avg_loss=0.0197 | avg_acc=0.9860\n",
      "epoch 56 | avg_loss=0.0201 | avg_acc=0.9858\n",
      "epoch 57 | avg_loss=0.0205 | avg_acc=0.9854\n",
      "epoch 58 | avg_loss=0.0198 | avg_acc=0.9859\n",
      "epoch 59 | avg_loss=0.0198 | avg_acc=0.9860\n",
      "epoch 60 | avg_loss=0.0197 | avg_acc=0.9861\n",
      "epoch 61 | avg_loss=0.0187 | avg_acc=0.9867\n",
      "epoch 62 | avg_loss=0.0188 | avg_acc=0.9867\n",
      "epoch 63 | avg_loss=0.0186 | avg_acc=0.9868\n",
      "epoch 64 | avg_loss=0.0183 | avg_acc=0.9871\n",
      "epoch 65 | avg_loss=0.0188 | avg_acc=0.9866\n",
      "epoch 66 | avg_loss=0.0187 | avg_acc=0.9867\n",
      "epoch 67 | avg_loss=0.0183 | avg_acc=0.9872\n",
      "epoch 68 | avg_loss=0.0180 | avg_acc=0.9870\n",
      "epoch 69 | avg_loss=0.0181 | avg_acc=0.9873\n",
      "epoch 70 | avg_loss=0.0175 | avg_acc=0.9877\n",
      "epoch 71 | avg_loss=0.0175 | avg_acc=0.9877\n",
      "epoch 72 | avg_loss=0.0173 | avg_acc=0.9877\n",
      "epoch 73 | avg_loss=0.0172 | avg_acc=0.9879\n",
      "epoch 74 | avg_loss=0.0172 | avg_acc=0.9879\n",
      "epoch 75 | avg_loss=0.0163 | avg_acc=0.9885\n",
      "epoch 76 | avg_loss=0.0168 | avg_acc=0.9881\n",
      "epoch 77 | avg_loss=0.0165 | avg_acc=0.9883\n",
      "epoch 78 | avg_loss=0.0162 | avg_acc=0.9886\n",
      "epoch 79 | avg_loss=0.0159 | avg_acc=0.9889\n",
      "epoch 80 | avg_loss=0.0157 | avg_acc=0.9889\n",
      "epoch 81 | avg_loss=0.0156 | avg_acc=0.9891\n",
      "epoch 82 | avg_loss=0.0159 | avg_acc=0.9887\n",
      "epoch 83 | avg_loss=0.0157 | avg_acc=0.9889\n",
      "epoch 84 | avg_loss=0.0154 | avg_acc=0.9892\n",
      "epoch 85 | avg_loss=0.0150 | avg_acc=0.9895\n",
      "epoch 86 | avg_loss=0.0160 | avg_acc=0.9887\n",
      "epoch 87 | avg_loss=0.0151 | avg_acc=0.9894\n",
      "epoch 88 | avg_loss=0.0152 | avg_acc=0.9892\n",
      "epoch 89 | avg_loss=0.0153 | avg_acc=0.9892\n",
      "epoch 90 | avg_loss=0.0144 | avg_acc=0.9898\n",
      "epoch 91 | avg_loss=0.0148 | avg_acc=0.9895\n",
      "epoch 92 | avg_loss=0.0141 | avg_acc=0.9900\n",
      "epoch 93 | avg_loss=0.0142 | avg_acc=0.9901\n",
      "epoch 94 | avg_loss=0.0146 | avg_acc=0.9898\n",
      "epoch 95 | avg_loss=0.0144 | avg_acc=0.9898\n"
     ]
    }
   ],
   "source": [
    "for e in range(cfg.n_epoch):\n",
    "    rng, key = random.split(key)\n",
    "    state = train_epoch(state, train_loader, cfg, rng, e)"
   ]
  },
  {
   "cell_type": "code",
   "execution_count": 12,
   "metadata": {},
   "outputs": [
    {
     "data": {
      "text/plain": [
       "'checkpoint/checkpoint_96'"
      ]
     },
     "execution_count": 12,
     "metadata": {},
     "output_type": "execute_result"
    }
   ],
   "source": [
    "checkpoints.save_checkpoint('./checkpoint', state, step=cfg.n_epoch)"
   ]
  },
  {
   "cell_type": "code",
   "execution_count": null,
   "metadata": {},
   "outputs": [],
   "source": [
    "# more epochs\n",
    "\n",
    "# n_more = 32\n",
    "# for e in range(n_more):\n",
    "#     rng, key = random.split(key)\n",
    "#     state = train_epoch(state, train_loader, cfg, rng, e)\n",
    "# checkpoints.save_checkpoint('./checkpoint', state, step=cfg.n_epoch + n_more)"
   ]
  },
  {
   "cell_type": "code",
   "execution_count": 4,
   "metadata": {},
   "outputs": [
    {
     "name": "stdout",
     "output_type": "stream",
     "text": [
      "train dataset accuracy = 0.992\n",
      "eval dataset accuracy = 0.991\n"
     ]
    }
   ],
   "source": [
    "print(f\"train dataset accuracy = {eval(state, train_loader, cfg):.3f}\")\n",
    "print(f\"eval dataset accuracy = {eval(state, eval_loader, cfg):.3f}\")"
   ]
  },
  {
   "cell_type": "code",
   "execution_count": 5,
   "metadata": {},
   "outputs": [
    {
     "name": "stdout",
     "output_type": "stream",
     "text": [
      "input = [[ 1  2 57  6 37 60 43 26 12 61 13 31  5  9 35 14 63 23 41 62 10 33 16 52\n",
      "  50 57 37 50 31  4 40 49  1 12 13 52 60 30 26  9 61  6 40 34 14 24 20 50\n",
      "   0 59  2 39 29 11 43 12 22 48 49 22  4 40 61 47]]\n",
      "generated sequence = [[ 0  1  1  2  2  4  4  5  6  6  9  9 10 11 12 12 12 13 13 14 14 16 20 22\n",
      "  22 23 24 26 26 29 30 31 31 33 34 35 37 37 39 40 40 40 41 43 43 47 48 49\n",
      "  49 50 50 50 52 52 57 57 59 60 60 61 61 61 62 63]]\n"
     ]
    }
   ],
   "source": [
    "from jax_impl.infer import generate\n",
    "\n",
    "rng, key = random.split(key)\n",
    "x = random.randint(rng, (1, cfg.sequence_len), 0, maxval=cfg.vocab_size)\n",
    "\n",
    "output = generate(cfg, state.params, x, cfg.sequence_len)[:, -cfg.sequence_len:]\n",
    "\n",
    "print(f\"input = {x}\")\n",
    "print(f\"generated sequence = {output}\")"
   ]
  },
  {
   "cell_type": "code",
   "execution_count": 6,
   "metadata": {},
   "outputs": [],
   "source": [
    "assert (jnp.sort(x) == output).all()"
   ]
  },
  {
   "cell_type": "code",
   "execution_count": null,
   "metadata": {},
   "outputs": [],
   "source": []
  }
 ],
 "metadata": {
  "kernelspec": {
   "display_name": "Python 3.10.4 ('ml')",
   "language": "python",
   "name": "python3"
  },
  "language_info": {
   "codemirror_mode": {
    "name": "ipython",
    "version": 3
   },
   "file_extension": ".py",
   "mimetype": "text/x-python",
   "name": "python",
   "nbconvert_exporter": "python",
   "pygments_lexer": "ipython3",
   "version": "3.10.4"
  },
  "orig_nbformat": 4,
  "vscode": {
   "interpreter": {
    "hash": "b2197b825b7386dfddab0fbacf6c0b51d2279ad2fcc5a7725cfa6cd332434469"
   }
  }
 },
 "nbformat": 4,
 "nbformat_minor": 2
}
