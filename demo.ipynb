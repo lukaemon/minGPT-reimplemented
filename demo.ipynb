{
 "cells": [
  {
   "cell_type": "code",
   "execution_count": 12,
   "metadata": {},
   "outputs": [
    {
     "name": "stderr",
     "output_type": "stream",
     "text": [
      "[autoreload of pkg_resources failed: Traceback (most recent call last):\n",
      "  File \"/Users/lukakuma/miniconda3/envs/ml/lib/python3.10/site-packages/IPython/extensions/autoreload.py\", line 257, in check\n",
      "    superreload(m, reload, self.old_objects)\n",
      "  File \"/Users/lukakuma/miniconda3/envs/ml/lib/python3.10/site-packages/IPython/extensions/autoreload.py\", line 455, in superreload\n",
      "    module = reload(module)\n",
      "  File \"/Users/lukakuma/miniconda3/envs/ml/lib/python3.10/importlib/__init__.py\", line 169, in reload\n",
      "    _bootstrap._exec(spec, module)\n",
      "  File \"<frozen importlib._bootstrap>\", line 619, in _exec\n",
      "  File \"<frozen importlib._bootstrap_external>\", line 883, in exec_module\n",
      "  File \"<frozen importlib._bootstrap>\", line 241, in _call_with_frames_removed\n",
      "  File \"/Users/lukakuma/miniconda3/envs/ml/lib/python3.10/site-packages/pkg_resources/__init__.py\", line 3095, in <module>\n",
      "    class RequirementParseError(packaging.requirements.InvalidRequirement):\n",
      "AttributeError: module 'pkg_resources._vendor.packaging' has no attribute 'requirements'\n",
      "]\n",
      "[autoreload of pkg_resources failed: Traceback (most recent call last):\n",
      "  File \"/Users/lukakuma/miniconda3/envs/ml/lib/python3.10/site-packages/IPython/extensions/autoreload.py\", line 257, in check\n",
      "    superreload(m, reload, self.old_objects)\n",
      "  File \"/Users/lukakuma/miniconda3/envs/ml/lib/python3.10/site-packages/IPython/extensions/autoreload.py\", line 455, in superreload\n",
      "    module = reload(module)\n",
      "  File \"/Users/lukakuma/miniconda3/envs/ml/lib/python3.10/importlib/__init__.py\", line 169, in reload\n",
      "    _bootstrap._exec(spec, module)\n",
      "  File \"<frozen importlib._bootstrap>\", line 619, in _exec\n",
      "  File \"<frozen importlib._bootstrap_external>\", line 883, in exec_module\n",
      "  File \"<frozen importlib._bootstrap>\", line 241, in _call_with_frames_removed\n",
      "  File \"/Users/lukakuma/miniconda3/envs/ml/lib/python3.10/site-packages/pkg_resources/__init__.py\", line 3095, in <module>\n",
      "    class RequirementParseError(packaging.requirements.InvalidRequirement):\n",
      "AttributeError: module 'pkg_resources._vendor.packaging' has no attribute 'requirements'\n",
      "]\n"
     ]
    }
   ],
   "source": [
    "from model import GPT\n",
    "from dataset import SortDataset\n",
    "from utils import ModelConfig, TrainConfig, TrainerCallbackEvent, set_seed\n",
    "from train import Trainer\n",
    "\n",
    "import torch\n",
    "from torch.utils.data.dataloader import DataLoader\n",
    "\n",
    "set_seed(3407)\n",
    "\n",
    "%reload_ext autoreload\n",
    "%autoreload 2"
   ]
  },
  {
   "cell_type": "code",
   "execution_count": 13,
   "metadata": {},
   "outputs": [],
   "source": [
    "train_dataset = SortDataset('train')\n",
    "test_dataset = SortDataset('test')"
   ]
  },
  {
   "cell_type": "code",
   "execution_count": 14,
   "metadata": {},
   "outputs": [
    {
     "name": "stdout",
     "output_type": "stream",
     "text": [
      "tensor([1, 0, 1, 0, 0, 0, 0, 0, 0, 0, 1])\n",
      "tensor([-1, -1, -1, -1, -1,  0,  0,  0,  0,  1,  1])\n"
     ]
    }
   ],
   "source": [
    "x, y = train_dataset[1]\n",
    "\n",
    "print(x)\n",
    "print(y)"
   ]
  },
  {
   "cell_type": "code",
   "execution_count": 15,
   "metadata": {},
   "outputs": [
    {
     "data": {
      "text/plain": [
       "ModelConfig(vocab_size=3, context_window=11, n_embd=48, n_head=3, n_layer=3, model_type='gpt-nano', attn_pdrop=0.1, recid_pdrop=0.1, embd_pdrop=0.1)"
      ]
     },
     "execution_count": 15,
     "metadata": {},
     "output_type": "execute_result"
    }
   ],
   "source": [
    "model_config = ModelConfig(\n",
    "    vocab_size=train_dataset.get_vocab_size(), \n",
    "    context_window=train_dataset.get_block_size(), \n",
    "    model_type='gpt-nano')\n",
    "\n",
    "model_config"
   ]
  },
  {
   "cell_type": "code",
   "execution_count": 16,
   "metadata": {},
   "outputs": [
    {
     "name": "stdout",
     "output_type": "stream",
     "text": [
      "number of parameters: 0.086M\n"
     ]
    }
   ],
   "source": [
    "model = GPT(model_config)"
   ]
  },
  {
   "cell_type": "code",
   "execution_count": 17,
   "metadata": {},
   "outputs": [
    {
     "name": "stdout",
     "output_type": "stream",
     "text": [
      "TrainConfig(device='auto', num_workers=0, batch_size=64, max_iters=2000, learning_rate=0.0005, betas=(0.9, 0.95), weight_decay=0.1, grad_norm_clip=1.0)\n",
      "model is running on cpu\n"
     ]
    }
   ],
   "source": [
    "train_config = TrainConfig()\n",
    "train_config.learning_rate = 5e-4\n",
    "train_config.max_iters = 2000\n",
    "\n",
    "print(train_config)\n",
    "\n",
    "trainer = Trainer(train_config, model, train_dataset, test_dataset)"
   ]
  },
  {
   "cell_type": "code",
   "execution_count": 18,
   "metadata": {},
   "outputs": [],
   "source": [
    "def print_batch_loss(trainer: Trainer):\n",
    "    if trainer.n_iter % 100 == 0:\n",
    "        print(f'{trainer.n_iter=}, {trainer.loss.item()=:.4f}')\n",
    "\n",
    "trainer.add_callback(TrainerCallbackEvent.on_train_batch_end, print_batch_loss)"
   ]
  },
  {
   "cell_type": "code",
   "execution_count": 19,
   "metadata": {},
   "outputs": [
    {
     "name": "stdout",
     "output_type": "stream",
     "text": [
      "trainer.n_iter=0, trainer.loss.item()=1.0634\n",
      "trainer.n_iter=100, trainer.loss.item()=0.1920\n",
      "trainer.n_iter=200, trainer.loss.item()=0.0838\n",
      "trainer.n_iter=300, trainer.loss.item()=0.0350\n",
      "trainer.n_iter=400, trainer.loss.item()=0.0286\n",
      "trainer.n_iter=500, trainer.loss.item()=0.0474\n",
      "trainer.n_iter=600, trainer.loss.item()=0.0090\n",
      "trainer.n_iter=700, trainer.loss.item()=0.0120\n",
      "trainer.n_iter=800, trainer.loss.item()=0.0353\n",
      "trainer.n_iter=900, trainer.loss.item()=0.0920\n",
      "trainer.n_iter=1000, trainer.loss.item()=0.0280\n",
      "trainer.n_iter=1100, trainer.loss.item()=0.0114\n",
      "trainer.n_iter=1200, trainer.loss.item()=0.0229\n",
      "trainer.n_iter=1300, trainer.loss.item()=0.0044\n",
      "trainer.n_iter=1400, trainer.loss.item()=0.0256\n",
      "trainer.n_iter=1500, trainer.loss.item()=0.0102\n",
      "trainer.n_iter=1600, trainer.loss.item()=0.0009\n",
      "trainer.n_iter=1700, trainer.loss.item()=0.0005\n",
      "trainer.n_iter=1800, trainer.loss.item()=0.0291\n",
      "trainer.n_iter=1900, trainer.loss.item()=0.0131\n",
      "trainer.n_iter=2000, trainer.loss.item()=0.0008\n"
     ]
    }
   ],
   "source": [
    "trainer.run()"
   ]
  },
  {
   "cell_type": "code",
   "execution_count": 20,
   "metadata": {},
   "outputs": [
    {
     "name": "stdout",
     "output_type": "stream",
     "text": [
      "train final score: 3200.0/3200 = 100.00% correct\n",
      "test final score: 5000.0/5000 = 100.00% correct\n"
     ]
    }
   ],
   "source": [
    "trainer.eval('train')\n",
    "trainer.eval('test')"
   ]
  },
  {
   "cell_type": "code",
   "execution_count": 21,
   "metadata": {},
   "outputs": [
    {
     "name": "stdout",
     "output_type": "stream",
     "text": [
      "input sequence  : [[0, 0, 2, 1, 0, 1]]\n",
      "predicted sorted: [[0, 0, 0, 1, 1, 2]]\n",
      "gt sort         : [0, 0, 0, 1, 1, 2]\n",
      "matches         : True\n"
     ]
    }
   ],
   "source": [
    "# run random given sequence through the model as well\n",
    "n = train_dataset.sequence_length\n",
    "inp = torch.tensor([[0, 0, 2, 1, 0, 1]], dtype=torch.long).to(trainer.device)\n",
    "assert inp[0].nelement() == n\n",
    "with torch.no_grad():\n",
    "    cat = model.generate(inp, n, do_sample=False)\n",
    "sol = torch.sort(inp[0])[0]\n",
    "sol_candidate = cat[:, n:]\n",
    "print('input sequence  :', inp.tolist())\n",
    "print('predicted sorted:', sol_candidate.tolist())\n",
    "print('gt sort         :', sol.tolist())\n",
    "print('matches         :', bool((sol == sol_candidate).all()))"
   ]
  },
  {
   "cell_type": "code",
   "execution_count": null,
   "metadata": {},
   "outputs": [],
   "source": []
  }
 ],
 "metadata": {
  "kernelspec": {
   "display_name": "Python 3.10.4 ('ml')",
   "language": "python",
   "name": "python3"
  },
  "language_info": {
   "codemirror_mode": {
    "name": "ipython",
    "version": 3
   },
   "file_extension": ".py",
   "mimetype": "text/x-python",
   "name": "python",
   "nbconvert_exporter": "python",
   "pygments_lexer": "ipython3",
   "version": "3.10.4"
  },
  "orig_nbformat": 4,
  "vscode": {
   "interpreter": {
    "hash": "4d9cca5ae6522df0bf585e883174a5959eeb512b2ca7ff1d0a5de60089da5f88"
   }
  }
 },
 "nbformat": 4,
 "nbformat_minor": 2
}
